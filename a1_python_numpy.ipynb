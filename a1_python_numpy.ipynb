{
 "cells": [
  {
   "cell_type": "markdown",
   "metadata": {},
   "source": [
    "# CS549 Machine Learning \n",
    "# Assignment 1: Python and numpy basics\n",
    "\n",
    "**Created by:** Yang Xu, Assistant Professor of Computer Science, San Diego State University\n",
    "\n",
    "\n",
    "**Total: 10 points**\n",
    "\n",
    "In this assignment, you will need to solve a series of programming questions about Python and numpy. You are encourageed to look up the official documents (Python: [https://docs.python.org/3/]; numpy: [https://docs.scipy.org/doc/numpy-1.17.0/reference/]) and Google to help you.\n",
    "\n",
    "Your goal is to run all the cells below one by one from top to bottom. Before you run some task cells, you need to complete the missing code (indicated by the **None**s) in them. \n",
    "\n",
    "For each **task** cell that requires your completion, you should run it to check if your code is correct.\n",
    "The cell output should be *exactly* the same as the \"expected output\" that follows.\n",
    "\n",
    "---\n",
    "\n",
    "## Import packages"
   ]
  },
  {
   "cell_type": "code",
   "execution_count": 1,
   "metadata": {
    "tags": []
   },
   "outputs": [],
   "source": [
    "import numpy as np"
   ]
  },
  {
   "cell_type": "markdown",
   "metadata": {},
   "source": [
    "## Task 1: Python list operations\n",
    "\n",
    "**2 points**\n",
    "\n",
    "Task descriptions are in the comments.\n",
    "\n",
    "*Hint*: Use the technique called *list comprehensions*, you can write compact code on list operations. Link: https://docs.python.org/3/tutorial/datastructures.html#list-comprehensions"
   ]
  },
  {
   "cell_type": "code",
   "execution_count": 2,
   "metadata": {
    "tags": []
   },
   "outputs": [
    {
     "name": "stdout",
     "output_type": "stream",
     "text": [
      "len(evens) = 50\n",
      "evens[20:30] = [42, 44, 46, 48, 50, 52, 54, 56, 58, 60]\n",
      "len(divisibles) = 16\n",
      "divibles = [6, 12, 18, 24, 30, 36, 42, 48, 54, 60, 66, 72, 78, 84, 90, 96]\n"
     ]
    }
   ],
   "source": [
    "#### START YOUR CODE ####\n",
    "# Create a list of 50 even integer numbers, ranging from 2 to 100, e.g., [2, 4, 6, ..., 100]\n",
    "# Hint: use the range() function\n",
    "\n",
    "evens = list(range(2, 101, 2)) \n",
    "\n",
    "\n",
    "# Find all the numbers that can be divided by number 6 with 0 remainder, and store them in a list\n",
    "# E.g., [6, 12, ..., 96]\n",
    "# Hint: use list comprehensions to write just one line of code\n",
    "divisibles = [i for i in evens if i%6==0]\n",
    "\n",
    "#### END YOUR CODE ####\n",
    "\n",
    "\n",
    "#### DO NOT CHANGE THE CODE BELOW ####\n",
    "print('len(evens) = {}'.format(len(evens)))\n",
    "print('evens[20:30] = {}'.format(evens[20:30]))\n",
    "\n",
    "print('len(divisibles) = {}'.format(len(divisibles)))\n",
    "print('divibles = {}'.format(divisibles))"
   ]
  },
  {
   "cell_type": "markdown",
   "metadata": {},
   "source": [
    "### Expected output\n",
    "\n",
    "len(evens) =  50\n",
    "evens[20:30] = [42, 44, 46, 48, 50, 52, 54, 56, 58, 60]\n",
    "len(divisibles) = 16\n",
    "divibles = [6, 12, 18, 24, 30, 36, 42, 48, 54, 60, 66, 72, 78, 84, 90, 96]\n",
    "\n",
    "---\n",
    "\n",
    "## Task 2: Vectorized comparison in numpy\n",
    "**3 points**\n",
    "\n",
    "Task descriptions are in the comments."
   ]
  },
  {
   "cell_type": "code",
   "execution_count": 3,
   "metadata": {},
   "outputs": [
    {
     "name": "stdout",
     "output_type": "stream",
     "text": [
      "a = [[ 1.76405235  0.40015721  0.97873798]\n",
      " [ 2.2408932   1.86755799 -0.97727788]\n",
      " [ 0.95008842 -0.15135721 -0.10321885]]\n",
      "count = 5\n",
      "indices = [[0 0]\n",
      " [0 2]\n",
      " [1 0]\n",
      " [1 1]\n",
      " [2 0]]\n"
     ]
    }
   ],
   "source": [
    "np.random.seed(0)\n",
    "\n",
    "#### START YOUR CODE ####\n",
    "# Create a 3 by 3 numpy array with random float numbers sampled from a normal distribution (mean=0, std=1)\n",
    "a = np.random.randn(3,3)\n",
    "\n",
    "# Find how many elements are greater than or equal to 0.5 in array a. \n",
    "# Hint: numpy array can be directly compared with constant numbers; In Python, True == 1, and False == 0\n",
    "count=len(a[a>=0.5])\n",
    "\n",
    "# Find the indices of all elements in array a that are greater than or equal to 0.5\n",
    "# Hint: use np.argwhere()\n",
    "indices = np.argwhere(a >= 0.5)\n",
    "#### END YOUR CODE ####\n",
    "\n",
    "\n",
    "#### DO NOT CHANGE THE CODE BELOW ####\n",
    "assert isinstance(a, np.ndarray)\n",
    "print('a = {}'.format(a))\n",
    "print('count = {}'.format(count))\n",
    "print('indices = {}'.format(indices))"
   ]
  },
  {
   "cell_type": "markdown",
   "metadata": {},
   "source": [
    "### Expected output\n",
    "a = [[ 1.76405235  0.40015721  0.97873798] <br>[ 2.2408932   1.86755799 -0.97727788] <br>[ 0.95008842 -0.15135721 -0.10321885]]\n",
    "count = 5\n",
    "indices = [[0, 0], [0, 2], [1, 0], [1, 1], [2, 0]]\n",
    "\n",
    "---\n",
    "\n",
    "\n",
    "## Task 3: mean() and argmax() in numpy\n",
    "**3 points**\n",
    "\n",
    "Task descriptions are in the comments."
   ]
  },
  {
   "cell_type": "code",
   "execution_count": 4,
   "metadata": {},
   "outputs": [
    {
     "name": "stdout",
     "output_type": "stream",
     "text": [
      "row means = [ 2.  7. 12. 17.]\n",
      "max elements for rows = [ 4  9 14 19]\n",
      "indices of max elements for rows = [4 4 4 4]\n"
     ]
    }
   ],
   "source": [
    "b = np.arange(20).reshape((4,5))\n",
    "\n",
    "#### START YOUR CODE ####\n",
    "# Compute the mean value for each rows in the following 4 by 5 array\n",
    "# Hint: use np.mean() with the argument axis set properly\n",
    "row_means = np.mean(b,axis=1)\n",
    "\n",
    "# Find the max element for each row, and their indices\n",
    "# Hint: use np.amax() and np.argmax()\n",
    "row_max = np.amax(b,axis=1)\n",
    "row_max_indices = np.argmax(b,axis=1)\n",
    "#### END YOUR CODE ####\n",
    "\n",
    "\n",
    "#### DO NOT CHANGE THE CODE BELOW ####\n",
    "# print(b)\n",
    "assert isinstance(row_means, np.ndarray)\n",
    "print('row means = {}'.format(row_means))\n",
    "print('max elements for rows = {}'.format(row_max))\n",
    "print('indices of max elements for rows = {}'.format(row_max_indices))"
   ]
  },
  {
   "cell_type": "markdown",
   "metadata": {},
   "source": [
    "### Expected output\n",
    "\n",
    "row means = [ 2.  7. 12. 17.]\n",
    "max elements for rows = [ 4  9 14 19]\n",
    "indices of max elements for rows = [4 4 4 4]\n",
    "\n",
    "---\n",
    "\n",
    "## Task 4: Basic linear algebra in numpy\n",
    "**2 points**\n",
    "\n",
    "Task descriptions are in the comments.\n",
    "\n",
    "*Reference*: https://docs.scipy.org/doc/numpy/reference/routines.linalg.html"
   ]
  },
  {
   "cell_type": "code",
   "execution_count": 5,
   "metadata": {},
   "outputs": [
    {
     "name": "stdout",
     "output_type": "stream",
     "text": [
      "m_inv =  [[-2.   1. ]\n",
      " [ 1.5 -0.5]]\n",
      "m_inv is close to np.eye(2):  True\n",
      "eigen values w =  [-0.37228132  5.37228132]\n",
      "eigen vectors v =  [[-0.82456484 -0.41597356]\n",
      " [ 0.56576746 -0.90937671]]\n",
      "mv = wv:  True\n"
     ]
    }
   ],
   "source": [
    "from numpy.linalg import eig\n",
    "m = np.array([[1.,2.], [3.,4.]])\n",
    "\n",
    "#### START YOUR CODE ####\n",
    "# Compute the inverse of matrix m\n",
    "m_inv = np.linalg.inv(m)\n",
    "\n",
    "# Compute the eigen values and eigen vectors of m\n",
    "w, v = eig(m)\n",
    "#### END YOUR CODE ####\n",
    "\n",
    "#### DO NOT CHANGE THE CODE BELOW ####\n",
    "print('m_inv = ', m_inv)\n",
    "print('m_inv is close to np.eye(2): ', np.allclose(m.dot(m_inv), np.eye(2)))\n",
    "print('eigen values w = ', w)\n",
    "print('eigen vectors v = ', v)\n",
    "print('mv = wv: ', np.allclose(m.dot(v), w*v))"
   ]
  },
  {
   "cell_type": "markdown",
   "metadata": {
    "pycharm": {
     "name": "#%% md\n"
    }
   },
   "source": [
    "### Expected output\n",
    "\n",
    "m_inv = [[-2.   1. ]<br>[ 1.5 -0.5]]\n",
    "m_inv is close to np.eye(2): True\n",
    "w =  [-0.37228132  5.37228132]\n",
    "v =  [[-0.82456484 -0.41597356]<br>[ 0.56576746 -0.90937671]]\n",
    "mv = wv:  True"
   ]
  }
 ],
 "metadata": {
  "kernelspec": {
   "display_name": "Python 3",
   "language": "python",
   "name": "python3"
  },
  "language_info": {
   "codemirror_mode": {
    "name": "ipython",
    "version": 3
   },
   "file_extension": ".py",
   "mimetype": "text/x-python",
   "name": "python",
   "nbconvert_exporter": "python",
   "pygments_lexer": "ipython3",
   "version": "3.8.8"
  }
 },
 "nbformat": 4,
 "nbformat_minor": 4
}
